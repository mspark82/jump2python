{
 "cells": [
  {
   "cell_type": "markdown",
   "metadata": {},
   "source": [
    "## 튜플 자료형\n",
    " - 리스트는 [], 튜플은 ()\n",
    " - 리스트는 값의 수정, 삭제, 생성이 가능하지만 튜플은 불가능 (가장 큰 차이)\n",
    " - t2 = (1,)처럼 단 1개의 요소를 가질때는 요소 뒤에 콤마 필수\n",
    " - 프로그램 실행되는 동안 값이 변하지 않을 경우 튜플 사용,\n",
    "   값이 수시로 바뀔 경우 리스트 사용\n",
    " - 값이 변경되는 형태의 변수가 많기 때문 튜플보다는 리스트를 많이 사용"
   ]
  },
  {
   "cell_type": "code",
   "execution_count": null,
   "metadata": {},
   "outputs": [],
   "source": [
    "t1 = ()\n",
    "print (t1)\n",
    "\n",
    "t2 = (1,)    # 요소가 1개 일 경우 반드시 콤마 사용\n",
    "print(t2)\n",
    "\n",
    "t3 = (1,2,3)\n",
    "print(t3)\n",
    "\n",
    "t4 = 1,2,3   # 괄호 생략 가능\n",
    "print(t4)\n",
    "\n",
    "t5 = ('a','b',('ab','cd'))\n",
    "print(t5)"
   ]
  },
  {
   "cell_type": "code",
   "execution_count": null,
   "metadata": {},
   "outputs": [],
   "source": [
    "# 튜플 요소값 삭제 - 튜플 요소 삭제 불가 \n",
    "t1 = (1, 2, 'a', 'b')\n",
    "del t1[0]"
   ]
  },
  {
   "cell_type": "code",
   "execution_count": null,
   "metadata": {},
   "outputs": [],
   "source": [
    "# 튜플 요소값 변경\n",
    "t1[0] = 'c'"
   ]
  },
  {
   "cell_type": "code",
   "execution_count": null,
   "metadata": {},
   "outputs": [],
   "source": [
    "# 인덱싱\n",
    "print (\"t1[0] : \", t1[0])\n",
    "print (\"t1[3] : \", t1[3])\n",
    "\n",
    "# 슬라이싱\n",
    "print (\"t1[1:] : \", t1[1:])\n",
    "\n",
    "# 더하기 \n",
    "t2 = (3, 4)\n",
    "print (\"t1 + t2 : \", t1 + t2)\n",
    "\n",
    "# 곱하기\n",
    "print (\"t2 * 3 : \", t2 * 3)\n",
    "\n",
    "# 길이구하기\n",
    "print (\"len(t1) : \", len(t1))"
   ]
  },
  {
   "cell_type": "markdown",
   "metadata": {},
   "source": [
    "## 딕셔너리 자료형\n",
    " - key와 value를 한쌍으로 갖는 자료형\n",
    " - key를 통해 필요한 value만 얻음.\n",
    " - {key1:value1, key2:value2....}\n",
    " - key에는 변하지 않는 값 사용, value는 변하는 값, 변하지 않는 값 모두 사용 가능\n",
    " - value에는 리스트도 사용 가능, key는 리스트 사용 불가하지만 튜플(고정값)은 가능\n",
    " - 인덱싱, 슬라이싱 없이 key를 이용해서만 value 얻을 수 있음.\n",
    " - 주의사항 : key는 고유한 값, 중복 key 설정 시 하나를 제외한 나머지는 모두 무시됨"
   ]
  },
  {
   "cell_type": "code",
   "execution_count": null,
   "metadata": {},
   "outputs": [],
   "source": [
    "# 딕셔너리 쌍 추가\n",
    "a = {1: 'a'}\n",
    "a[2] = 'b'\n",
    "print (a)\n",
    "\n",
    "a['name'] = 'pey'\n",
    "print (a)\n",
    "\n",
    "a[3]  = [1, 2, 3]\n",
    "print (a)\n",
    "\n",
    "# 딕셔너리 요소 삭제\n",
    "del a[1]\n",
    "print (\"del a[1] : \", a)\n",
    "\n",
    "# key 사용해 value 얻기\n",
    "print (\"a['name'] : \", a['name'])\n",
    "print (\"a[1] : \", a[1])\n",
    "\n",
    "# key 중복 설정 시 \n",
    "b = {1: 'a', 1:'b'}\n",
    "print (\"b : \", b)\n",
    "\n",
    "# 튜플은 key로 사용 가능\n",
    "c = {(1,2) : 'hello'}\n",
    "print (\"c : \", c)\n",
    "\n",
    "# 리스트는 key로 사용 불가\n",
    "d = {[1, 2] :  'hi'}"
   ]
  },
  {
   "cell_type": "code",
   "execution_count": null,
   "metadata": {},
   "outputs": [],
   "source": [
    "# 딕셔너리 함수들\n"
   ]
  }
 ],
 "metadata": {
  "kernelspec": {
   "display_name": "Python 3",
   "language": "python",
   "name": "python3"
  }
 },
 "nbformat": 4,
 "nbformat_minor": 2
}
