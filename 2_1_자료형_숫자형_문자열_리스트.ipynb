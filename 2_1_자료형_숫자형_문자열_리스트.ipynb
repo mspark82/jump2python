{
 "cells": [
  {
   "cell_type": "markdown",
   "metadata": {},
   "source": [
    "# 2장 자료형"
   ]
  },
  {
   "cell_type": "markdown",
   "metadata": {},
   "source": [
    "자료형 \n",
    " - 프로그래밍을 할 때 쓰이는 숫자, 문자열 등 자료형태로 사용하는 모든 것, 프로그램의 기본이자 핵심단위"
   ]
  },
  {
   "cell_type": "markdown",
   "metadata": {},
   "source": [
    "## 숫자형 \n",
    " - 숫자 형태 자료형\n",
    " - 정수형 : 정수 (양, 음, 0)\n",
    " - 실수형(Floating-point) : 소수점이 포함된 숫자\n",
    " - 8진수 : 0o 또는 0O 로 시작 (잘 사용하지 않음)\n",
    " - 16진수 : 0x로 시작 (잘사용하지 않음)"
   ]
  },
  {
   "cell_type": "markdown",
   "metadata": {},
   "source": [
    "숫자형 활용을 위한 연산자\n",
    " - ** : x의 y제곱\n",
    " - % : 나눗셈 후 나머지 반환\n",
    " - // : 나눔셈 후 몫을 반환"
   ]
  },
  {
   "cell_type": "code",
   "execution_count": 10,
   "metadata": {},
   "outputs": [
    {
     "name": "stdout",
     "output_type": "stream",
     "text": [
      "3 ** 4 =  81\n",
      "7 % 3 =  1\n",
      "3 % 7 =  3\n",
      "7 // 4 =  1\n"
     ]
    }
   ],
   "source": [
    "# ** 연산자\n",
    "print(\"3 ** 4 = \", 3 ** 4)\n",
    "\n",
    "# % 연산자\n",
    "print(\"7 % 3 = \", 7 % 3)\n",
    "print(\"3 % 7 = \", 3 % 7)\n",
    "\n",
    "# //연산자\n",
    "print(\"7 // 4 = \", 7 // 4)"
   ]
  },
  {
   "cell_type": "markdown",
   "metadata": {},
   "source": [
    "## 문자형\n",
    " - 문자들의 집합\n",
    " - 문자열을 만드는 방법은 \", '를 이용한 4가지가 있으며, 문자열 내 \"나 '를 포함시켜야 하는 경우 사용\n",
    " - 이스케이프 코드(\\n, \\t, \\\\\\, \\\\', \\\\\" 등)도 사용 가능"
   ]
  },
  {
   "cell_type": "code",
   "execution_count": 24,
   "metadata": {},
   "outputs": [
    {
     "name": "stdout",
     "output_type": "stream",
     "text": [
      "Python's favorite food is perl\n",
      "\n",
      "Python \"is\" fun\n",
      "\n",
      "Life is too short, \n",
      "'You' need python\n",
      "\n",
      "Life is too short, You need python\n",
      "\n",
      "Python's favorite food is perl\n",
      "\n",
      "Python \n",
      " \t is \\ fun \\\n"
     ]
    }
   ],
   "source": [
    "# 문자열을 만드는 방법\n",
    "\n",
    "# \"\" 둘러싸기\n",
    "print(\"Python's favorite food is perl\\n\")\n",
    "\n",
    "# '' 둘러싸기\n",
    "print('Python \"is\" fun')\n",
    "print()\n",
    "\n",
    "# \"\"\" \"\"\" 둘러싸기 (feat. 줄바꿈) --> 여러줄 입력시에는 이 방법이 제일 깔끔 \n",
    "print(\"\"\"Life is too short, \n",
    "'You' need python\"\"\")\n",
    "print()\n",
    "\n",
    "# ''' ''' 둘러싸기\n",
    "print('''Life is too short, You need python''')\n",
    "print()\n",
    "\n",
    "# \\ 사용\n",
    "print('Python\\'s favorite food is perl\\n')\n",
    "\n",
    "# 이스케이프 코드 사용\n",
    "print(\"Python \\n \\t is \\\\ fun \\\\\")"
   ]
  },
  {
   "cell_type": "code",
   "execution_count": 29,
   "metadata": {},
   "outputs": [
    {
     "name": "stdout",
     "output_type": "stream",
     "text": [
      "==================================================\n",
      "Python is fun!\n",
      "==================================================\n",
      "문자열 길이 :  14\n"
     ]
    }
   ],
   "source": [
    "# 문자열 연산\n",
    "a = \"Python\"\n",
    "b = \" is fun!\"\n",
    "c = a + b          # 문자열 더해서 연결하기\n",
    "print(\"=\" * 50)    # 문자열 곱하기\n",
    "print(c)    \n",
    "print(\"=\" * 50)\n",
    "print(\"문자열 길이 : \", len(c))\n"
   ]
  },
  {
   "cell_type": "markdown",
   "metadata": {},
   "source": [
    "### 문자열 인덱싱과 슬라이싱\n",
    " - 인덱싱(Indexing) : 문자열에서 특정 문자를 찾거나 추출할때 사용\n",
    " - 슬라이싱(Slicing) : 단어 형태도 추출 가능\n",
    " - 리스트나 튜플에서도 사용 가능\n",
    " - 파이썬은 0부터 숫자를 센다."
   ]
  },
  {
   "cell_type": "code",
   "execution_count": 51,
   "metadata": {},
   "outputs": [
    {
     "name": "stdout",
     "output_type": "stream",
     "text": [
      "L\n",
      "s\n",
      "n\n",
      "LL\n",
      "\n",
      "Lif\n",
      "You need Python\n",
      "Life is too short, You need Python\n",
      "You need\n"
     ]
    }
   ],
   "source": [
    "# 인덱싱\n",
    "#    0123456789012345678901234567890123\n",
    "#              1         2         3\n",
    "a = \"Life is too short, You need Python\"\n",
    "print(a[0])\n",
    "print(a[12])\n",
    "print(a[-1])            # 뒤에서부터 카운트, -1은 뒤에서 첫글자\n",
    "print(a[0] + a[-0])     # -0은 0과 같다\n",
    "print()\n",
    "\n",
    "# 슬라이싱\n",
    "print(a[0:3])           # 0 ~ 2까지 슬라이싱\n",
    "print(a[19:])\n",
    "print(a[:])             # a 전체 출력\n",
    "print(a[19:-7])            "
   ]
  },
  {
   "cell_type": "markdown",
   "metadata": {},
   "source": [
    "### 문자열 formatting\n",
    "문자열 포맷 코드\n",
    "<table align='left' style=\"border-collapse:collapse; border:1px gray solid;\">\n",
    "    <tr style=\"border-collapse:collapse; border:1px gray solid;\" align=\"center\">\n",
    "        <td style=\"border-collapse:collapse; border:1px gray solid;\" align=\"center\">코드</td>\n",
    "        <td style=\"border-collapse:collapse; border:1px gray solid;\" align=\"center\">설명</td>\n",
    "    </tr>\n",
    "    <tr style=\"border-collapse:collapse; border:1px gray solid;\" align=\"center\">\n",
    "        <td style=\"border-collapse:collapse; border:1px gray solid;\" align=\"center\">%s</td>\n",
    "        <td style=\"border-collapse:collapse; border:1px gray solid;\" align=\"center\">문자열(String)</td>\n",
    "    </tr>\n",
    "    <tr style=\"border-collapse:collapse; border:1px gray solid;\" align=\"center\">\n",
    "        <td style=\"border-collapse:collapse; border:1px gray solid;\" align=\"center\">%c</td>\n",
    "        <td style=\"border-collapse:collapse; border:1px gray solid;\" align=\"center\">문자 1개(character)</td>\n",
    "    </tr>\n",
    "    <tr style=\"border-collapse:collapse; border:1px gray solid;\" align=\"center\">\n",
    "        <td style=\"border-collapse:collapse; border:1px gray solid;\" align=\"center\">%d</td>\n",
    "        <td style=\"border-collapse:collapse; border:1px gray solid;\" align=\"center\">정수(Integer)</td>\n",
    "    </tr>\n",
    "    <tr style=\"border-collapse:collapse; border:1px gray solid;\" align=\"center\">\n",
    "        <td style=\"border-collapse:collapse; border:1px gray solid;\" align=\"center\">%f</td>\n",
    "        <td style=\"border-collapse:collapse; border:1px gray solid;\" align=\"center\">부동소수(floating-point)</td>\n",
    "    </tr>\n",
    "    <tr style=\"border-collapse:collapse; border:1px gray solid;\" align=\"center\">\n",
    "        <td style=\"border-collapse:collapse; border:1px gray solid;\" align=\"center\">%o</td>\n",
    "        <td style=\"border-collapse:collapse; border:1px gray solid;\" align=\"center\">8진수</td>\n",
    "    </tr>\n",
    "    <tr style=\"border-collapse:collapse; border:1px gray solid;\" align=\"center\">\n",
    "        <td style=\"border-collapse:collapse; border:1px gray solid;\" align=\"center\">%x</td>\n",
    "        <td style=\"border-collapse:collapse; border:1px gray solid;\" align=\"center\">16진수</td>\n",
    "    </tr>\n",
    "    <tr style=\"border-collapse:collapse; border:1px gray solid;\" align=\"center\">\n",
    "        <td style=\"border-collapse:collapse; border:1px gray solid;\" align=\"center\">%%</td>\n",
    "        <td style=\"border-collapse:collapse; border:1px gray solid;\" align=\"center\">Literal % (문자 % 자체)</td>\n",
    "    </tr>\n",
    "</table>"
   ]
  },
  {
   "cell_type": "code",
   "execution_count": 57,
   "metadata": {},
   "outputs": [
    {
     "name": "stdout",
     "output_type": "stream",
     "text": [
      "I have 3 apples\n",
      "rate is 3.234\n",
      "Error is 97.73%.\n"
     ]
    }
   ],
   "source": [
    "print(\"I have %s apples\" % 3)        # %s 는 어떤 형태의 값이든 변환해서 넣을 수 있음\n",
    "print(\"rate is %s\" % 3.234)\n",
    "\n",
    "print(\"Error is %0.2f%%.\" % 97.73)"
   ]
  },
  {
   "cell_type": "code",
   "execution_count": 66,
   "metadata": {},
   "outputs": [
    {
     "name": "stdout",
     "output_type": "stream",
     "text": [
      "I eat 3 apples\n",
      "I eat five apples\n",
      "I eat 5 apples\n",
      "I eat 5 and 3 apples\n",
      "I eat 3 and 4 apples\n",
      "hi        \n",
      "        hi\n",
      "    hi    \n",
      "{ and }\n"
     ]
    }
   ],
   "source": [
    "# format 함수 사용한 포매팅\n",
    "number = 5\n",
    "day = 3\n",
    "print(\"I eat {0} apples\".format(3))              # 숫자 대입\n",
    "print(\"I eat {0} apples\".format(\"five\"))         # 문자열 대입\n",
    "print(\"I eat {0} apples\".format(number))         # 변수 대입\n",
    "print(\"I eat {0} and {1} apples\".format(number, day))         # 변수 2개 대입\n",
    "print(\"I eat {number} and {day} apples\".format(number=3, day=4))  # 인덱스 말고 이름으로 2개 대입\n",
    "\n",
    "print(\"{0:<10}\".format(\"hi\"))       # 왼쪽 정렬\n",
    "print(\"{0:>10}\".format(\"hi\"))       # 오른쪽 정렬\n",
    "print(\"{0:^10}\".format(\"hi\"))       # 가운데 정렬\n",
    "\n",
    "print(\"{{ and }}\".format())         # {} 중괄호 출력"
   ]
  },
  {
   "cell_type": "code",
   "execution_count": 72,
   "metadata": {},
   "outputs": [
    {
     "name": "stdout",
     "output_type": "stream",
     "text": [
      "내 이름은 홍길동입니다. 나이는 30이며, 내년이면 31이 된다.\n",
      "        hi\n"
     ]
    }
   ],
   "source": [
    "# f 문자열 포매팅 \n",
    "# 파이썬 3.6버전 이상부터 지원!!!\n",
    "name = \"홍길동\"\n",
    "age = 30\n",
    "print(f'내 이름은 {name}입니다. 나이는 {age}이며, 내년이면 {age+1}이 된다.')\n",
    "\n",
    "print(f'{\"hi\":>10}')      # 정렬도 그대로 사용 가능"
   ]
  },
  {
   "cell_type": "markdown",
   "metadata": {},
   "source": [
    "### 문자열 함수들"
   ]
  },
  {
   "cell_type": "code",
   "execution_count": 87,
   "metadata": {},
   "outputs": [
    {
     "name": "stdout",
     "output_type": "stream",
     "text": [
      "3\n",
      "9\n",
      "-1\n",
      "1\n",
      "a|b|c|d\n",
      "HI hi\n",
      "hi\n",
      "hi\n",
      "hi\n",
      "Your leg is too short\n",
      "['Life', 'is', 'too', 'short']\n"
     ]
    }
   ],
   "source": [
    "a = \"Life is too short\"\n",
    "\n",
    "# 문자 개수 세기\n",
    "print(a.count('o'))\n",
    "\n",
    "# 위치 1\n",
    "print(a.find('o'))     # 'o' 가 처음 나온 위치 반환, 찾는 문자가 없으면 -1 반환\n",
    "print(a.find('z'))\n",
    "\n",
    "# 위치 2\n",
    "print(a.index('i'))    # 'i' 가 처음 나온 위치 반환, find와 차이점은 찾는 문자나 문자열이 존재하지 않으면 오류 발생\n",
    "#print(a.index('z'))\n",
    "\n",
    "# 문자열 삽입\n",
    "print(\"|\".join(\"abcd\"))\n",
    "\n",
    "# 대소문자 변환\n",
    "print(\"hi\".upper(), \"HI\".lower())\n",
    "\n",
    "# 공백 지우기\n",
    "print(\"  hi\".lstrip())            # 왼쪽 공백 지우기\n",
    "print(\"hi    \".rstrip())          # 오른쪽 공백 지우기\n",
    "print(\"  hi  \".strip())           # 양쪽 공백 지우기\n",
    "\n",
    "# 문자열 바꾸기\n",
    "print(a.replace(\"Life\", \"Your leg\"))\n",
    "\n",
    "# 문자열 나누기\n",
    "print(a.split())"
   ]
  },
  {
   "cell_type": "markdown",
   "metadata": {},
   "source": [
    "## 리스트\n",
    "리스트명 = [요소1, 요소2, 요소3, ...] \n",
    "\n",
    "비어있는 리스트는 a = list() 로 생성"
   ]
  },
  {
   "cell_type": "markdown",
   "metadata": {},
   "source": [
    "### 인덱싱과 슬라이싱\n",
    "문자열 인덱싱, 슬라이싱과 동일"
   ]
  },
  {
   "cell_type": "code",
   "execution_count": 97,
   "metadata": {},
   "outputs": [
    {
     "name": "stdout",
     "output_type": "stream",
     "text": [
      "1\n",
      "4\n",
      "['a', 'b', 'c']\n",
      "c\n",
      "[1, 2]\n",
      "[1, 2, 3]\n",
      "[3, ['a', 'b', 'c']]\n"
     ]
    }
   ],
   "source": [
    "a = [1,2,3,['a','b','c']]\n",
    "\n",
    "# 리스트 인덱싱\n",
    "print(a[0])               # 0부터 시작\n",
    "print(a[0] + a[2])        # 요소값끼리 덧셈\n",
    "print(a[-1])              # 마지막 요소값\n",
    "print(a[3][2])            # 리스트 내 리스트에 대한 접근\n",
    "\n",
    "\n",
    "# 리스트 슬라이싱\n",
    "print(a[0:2])\n",
    "print(a[:3])\n",
    "print(a[2:])"
   ]
  },
  {
   "cell_type": "markdown",
   "metadata": {},
   "source": [
    "### 리스트 연산"
   ]
  },
  {
   "cell_type": "code",
   "execution_count": 102,
   "metadata": {},
   "outputs": [
    {
     "name": "stdout",
     "output_type": "stream",
     "text": [
      "[1, 2, 3, 4, 5, 6]\n",
      "[1, 2, 3, 1, 2, 3]\n",
      "3\n"
     ]
    }
   ],
   "source": [
    "a = [1,2,3]\n",
    "b = [4,5,6]\n",
    "\n",
    "print(a + b)            # 더하기\n",
    "print(a * 2)            # 반복\n",
    "print(len(a))           # 길이 구하기"
   ]
  },
  {
   "cell_type": "markdown",
   "metadata": {},
   "source": [
    "### 리스트 수정과 삭제"
   ]
  },
  {
   "cell_type": "code",
   "execution_count": 105,
   "metadata": {},
   "outputs": [
    {
     "name": "stdout",
     "output_type": "stream",
     "text": [
      "[1, 2, 4]\n",
      "[1, 4]\n"
     ]
    }
   ],
   "source": [
    "a = [1,2,3]\n",
    "\n",
    "# 수정\n",
    "a[2] = 4\n",
    "print(a)\n",
    "\n",
    "# 삭제\n",
    "del a[1]              # del 함수는 파이썬 자체 객체 삭제 함수   ex) del 객체\n",
    "print(a)"
   ]
  },
  {
   "cell_type": "markdown",
   "metadata": {},
   "source": [
    "### 리스트 함수들"
   ]
  },
  {
   "cell_type": "code",
   "execution_count": 129,
   "metadata": {},
   "outputs": [
    {
     "name": "stdout",
     "output_type": "stream",
     "text": [
      "[1, 3, 2, 4]\n",
      "[1, 2, 3, 4]\n",
      "[4, 3, 2, 1]\n",
      "2\n",
      "[5, 4, 3, 2, 1]\n",
      "[5, 4, 2, 1]\n",
      "[5, 4, 2]\n",
      "[5, 4]\n",
      "[5, 4, 3, 4, 2, 5, 1]\n",
      "2\n",
      "[5, 4, 3, 4, 2, 5, 1, 8, 9]\n",
      "[5, 4, 3, 4, 2, 5, 1, 8, 9, 6, 7]\n"
     ]
    }
   ],
   "source": [
    "a = [1,3,2]\n",
    "\n",
    "# 요소 추가 (리스트도 추가 가능)\n",
    "a.append(4)\n",
    "print(a)\n",
    "\n",
    "# 정렬\n",
    "a.sort()\n",
    "print(a)\n",
    "\n",
    "# 순서 뒤집기\n",
    "a.reverse()\n",
    "print(a)\n",
    "\n",
    "# 위치 반환\n",
    "print(a.index(2))\n",
    "# print(a.index(0))         # 존재하지 않는 값은 오류(Value Error) 발생\n",
    "\n",
    "# 요소 삽입\n",
    "a.insert(0,5)               # a[0] 위치에 5 삽입\n",
    "print(a)\n",
    "\n",
    "# 요소 제거\n",
    "a.remove(3)         # 첫번째로 나오는 3을 삭제\n",
    "print(a)\n",
    "\n",
    "# 요소 끄집어내기\n",
    "a.pop()             # 리스트의 마지막 요소를 반환 후 삭제\n",
    "print(a)\n",
    "a.pop(2)            # a[2] 요소 반환 후 삭제\n",
    "print(a)\n",
    "\n",
    "\n",
    "a.append(3)\n",
    "a.append(4)\n",
    "a.append(2)\n",
    "a.append(5)\n",
    "a.append(1)\n",
    "print(a)\n",
    "\n",
    "# 요소 개수 세기\n",
    "print(a.count(4))   # 4와 일치하는 개수\n",
    "\n",
    "# 리스트 확장\n",
    "a.extend([8,9])     # 기존 리스트에 리스트만 추가\n",
    "print(a)\n",
    "a+=[6,7]            # extend와 동일\n",
    "print(a)"
   ]
  }
 ],
 "metadata": {
  "kernelspec": {
   "display_name": "Python 3",
   "language": "python",
   "name": "python3"
  },
  "language_info": {
   "codemirror_mode": {
    "name": "ipython",
    "version": 3
   },
   "file_extension": ".py",
   "mimetype": "text/x-python",
   "name": "python",
   "nbconvert_exporter": "python",
   "pygments_lexer": "ipython3",
   "version": "3.7.2"
  }
 },
 "nbformat": 4,
 "nbformat_minor": 2
}
