{
 "cells": [
  {
   "cell_type": "markdown",
   "metadata": {},
   "source": [
    "### 05-4 예외 처리"
   ]
  },
  {
   "cell_type": "markdown",
   "metadata": {},
   "source": [
    "## try, except문"
   ]
  },
  {
   "cell_type": "code",
   "execution_count": null,
   "metadata": {},
   "outputs": [],
   "source": [
    "try:\n",
    "    ...     # 오류가 발생하지 않으면 실행\n",
    "except [발생 오류 [as 오류 메세지 변수]]:    # [] 기호는 괄호 안의 내용 생략 가능\n",
    "    ...     # 오류가 발생하면 실행"
   ]
  },
  {
   "cell_type": "code",
   "execution_count": null,
   "metadata": {},
   "outputs": [],
   "source": [
    "# 1. try, except만 쓰는 방법\n",
    "try:\n",
    "    ...\n",
    "except:\n",
    "    ...     # 오류 종류 상관하지 않고 실행"
   ]
  },
  {
   "cell_type": "code",
   "execution_count": null,
   "metadata": {},
   "outputs": [],
   "source": [
    "# 2. 발생 오류만 포함한 except문\n",
    "try:\n",
    "    ...\n",
    "except 발생 오류:\n",
    "    ...     # 미리 지정한 오류 이름과 일치할때만 실행"
   ]
  },
  {
   "cell_type": "code",
   "execution_count": null,
   "metadata": {},
   "outputs": [],
   "source": [
    "# 2-1 여러 개의 오류 처리하기 \n",
    "try:\n",
    "    ...\n",
    "except 발생 오류1:\n",
    "    ...\n",
    "except 발생 오류2:\n",
    "    ..."
   ]
  },
  {
   "cell_type": "code",
   "execution_count": null,
   "metadata": {},
   "outputs": [],
   "source": [
    "try:\n",
    "    a = [1, 2]\n",
    "    print(a[3])\n",
    "    4 / 0\n",
    "except ZeroDivisionError:\n",
    "    print(\"0으로 나눌 수 없습니다.\")\n",
    "except IndexError:\n",
    "    print(\"인덱싱 할 수 없습니다.\")\n",
    "except (ZeroDivisionError, IndexError) as e:   # 2개 이상 오류는 괄호로 묶어서 처리\n",
    "    print(e)"
   ]
  },
  {
   "cell_type": "code",
   "execution_count": null,
   "metadata": {},
   "outputs": [],
   "source": [
    "# 3. 발생 오류와 오류 메시지 변수까지 포함한 except문\n",
    "try:\n",
    "    ...\n",
    "except 발생 오류 as 오류 메시지 변수:\n",
    "    ...     # 오류 메시지 내용까지 확인할때 사용하는 방법"
   ]
  },
  {
   "cell_type": "code",
   "execution_count": null,
   "metadata": {},
   "outputs": [],
   "source": [
    "try:\n",
    "    4 / 0\n",
    "except ZeroDivisionError as e:\n",
    "    print(e)"
   ]
  },
  {
   "cell_type": "markdown",
   "metadata": {},
   "source": [
    "## try .. finally\n",
    "- finally 절은 try 문 수행 도중 예외 발생 여부와 상관없이 항상 수행.\n",
    "- 사용한 리소스를 close 해야할 경우 많이 사용."
   ]
  },
  {
   "cell_type": "code",
   "execution_count": null,
   "metadata": {},
   "outputs": [],
   "source": [
    "f = open('foo.txt', 'w')\n",
    "try:\n",
    "    # 작업 중..\n",
    "finally:\n",
    "    f.close()"
   ]
  },
  {
   "cell_type": "markdown",
   "metadata": {},
   "source": [
    "## 오류 회피하기"
   ]
  },
  {
   "cell_type": "code",
   "execution_count": null,
   "metadata": {},
   "outputs": [],
   "source": []
  },
  {
   "cell_type": "markdown",
   "metadata": {},
   "source": [
    "## 오류 일부러 발생시키기"
   ]
  }
 ],
 "metadata": {
  "kernelspec": {
   "display_name": "Python 3",
   "language": "python",
   "name": "python3"
  }
 },
 "nbformat": 4,
 "nbformat_minor": 2
}
