{
 "cells": [
  {
   "cell_type": "markdown",
   "metadata": {},
   "source": [
    "# 2장 자료형"
   ]
  },
  {
   "cell_type": "markdown",
   "metadata": {},
   "source": [
    "자료형 \n",
    " - 프로그래밍을 할 때 쓰이는 숫자, 문자열 등 자료형태로 사용하는 모든 것, 프로그램의 기본이자 핵심단위"
   ]
  },
  {
   "cell_type": "markdown",
   "metadata": {},
   "source": [
    "숫자형 \n",
    " - 숫자 형태 자료형\n",
    " - 정수형 : 정수 (양, 음, 0)\n",
    " - 실수형(Floating-point) : 소수점이 포함된 숫자\n",
    " - 8진수 : 0o 또는 0O 로 시작 (잘 사용하지 않음)\n",
    " - 16진수 : 0x로 시작 (잘사용하지 않음)"
   ]
  },
  {
   "cell_type": "markdown",
   "metadata": {},
   "source": [
    "숫자형 활용을 위한 연산자\n",
    " - ** : x의 y제곱\n",
    " - % : 나눗셈 후 나머지 반환\n",
    " - // : 나눔셈 후 몫을 반환"
   ]
  },
  {
   "cell_type": "code",
   "execution_count": null,
   "metadata": {},
   "outputs": [],
   "source": []
  }
 ],
 "metadata": {
  "kernelspec": {
   "display_name": "Python 3",
   "language": "python",
   "name": "python3"
  },
  "language_info": {
   "codemirror_mode": {
    "name": "ipython",
    "version": 3
   },
   "file_extension": ".py",
   "mimetype": "text/x-python",
   "name": "python",
   "nbconvert_exporter": "python",
   "pygments_lexer": "ipython3",
   "version": "3.7.2"
  }
 },
 "nbformat": 4,
 "nbformat_minor": 2
}
